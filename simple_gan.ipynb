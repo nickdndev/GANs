{
  "nbformat": 4,
  "nbformat_minor": 0,
  "metadata": {
    "colab": {
      "name": "GAN_by_hand.ipynb",
      "provenance": [],
      "collapsed_sections": []
    },
    "kernelspec": {
      "name": "python3",
      "display_name": "Python 3"
    },
    "language_info": {
      "name": "python"
    },
    "accelerator": "GPU"
  },
  "cells": [
    {
      "cell_type": "code",
      "metadata": {
        "id": "_LiwPJ4-5z1h"
      },
      "source": [
        "import torch\n",
        "from torch import nn\n",
        "\n",
        "import math\n",
        "import matplotlib.pyplot as plt\n",
        "import torchvision\n",
        "import torchvision.transforms as transforms"
      ],
      "execution_count": 1,
      "outputs": []
    },
    {
      "cell_type": "code",
      "metadata": {
        "colab": {
          "base_uri": "https://localhost:8080/"
        },
        "id": "u1EACuBy6KoV",
        "outputId": "5943bf36-5aa1-40e0-c948-e2864944a34f"
      },
      "source": [
        "torch.manual_seed(777)"
      ],
      "execution_count": 2,
      "outputs": [
        {
          "output_type": "execute_result",
          "data": {
            "text/plain": [
              "<torch._C.Generator at 0x7ff6b1dc9a90>"
            ]
          },
          "metadata": {
            "tags": []
          },
          "execution_count": 2
        }
      ]
    },
    {
      "cell_type": "code",
      "metadata": {
        "id": "U0wtuTpa973I"
      },
      "source": [
        "train_data_length = 1024\n",
        "train_data = torch.zeros((train_data_length, 2))\n",
        "train_data[:, 0] = 2 * math.pi * torch.rand(train_data_length)\n",
        "train_data[:, 1] = torch.sin(train_data[:, 0])\n",
        "train_labels = torch.zeros(train_data_length)\n",
        "train_set = [\n",
        "    (train_data[i], train_labels[i]) for i in range(train_data_length)\n",
        "]"
      ],
      "execution_count": 3,
      "outputs": []
    },
    {
      "cell_type": "code",
      "metadata": {
        "colab": {
          "base_uri": "https://localhost:8080/",
          "height": 282
        },
        "id": "vJdXD5oc-MzX",
        "outputId": "7184a104-cc40-4c8c-aad2-09429d87fb77"
      },
      "source": [
        "plt.plot(train_data[:, 0], train_data[:, 1], \".\")"
      ],
      "execution_count": 4,
      "outputs": [
        {
          "output_type": "execute_result",
          "data": {
            "text/plain": [
              "[<matplotlib.lines.Line2D at 0x7ff6aec18c50>]"
            ]
          },
          "metadata": {
            "tags": []
          },
          "execution_count": 4
        },
        {
          "output_type": "display_data",
          "data": {
            "image/png": "[encoded data removed]",
            "text/plain": [
              "<Figure size 432x288 with 1 Axes>"
            ]
          },
          "metadata": {
            "tags": [],
            "needs_background": "light"
          }
        }
      ]
    },
    {
      "cell_type": "code",
      "metadata": {
        "id": "ATcr8CAE-WMR"
      },
      "source": [
        "batch_size = 32\n",
        "train_loader = torch.utils.data.DataLoader(\n",
        "    train_set, batch_size=batch_size, shuffle=True\n",
        ")"
      ],
      "execution_count": 5,
      "outputs": []
    },
    {
      "cell_type": "code",
      "metadata": {
        "id": "yqwLaKDE-lqj"
      },
      "source": [
        "class Discriminator(nn.Module):\n",
        "    def __init__(self):\n",
        "        super().__init__()\n",
        "        self.model = nn.Sequential(\n",
        "            nn.Linear(2, 256),\n",
        "            nn.ReLU(),\n",
        "            nn.Dropout(0.3),\n",
        "            nn.Linear(256, 128),\n",
        "            nn.ReLU(),\n",
        "            nn.Dropout(0.3),\n",
        "            nn.Linear(128, 64),\n",
        "            nn.ReLU(),\n",
        "            nn.Dropout(0.3),\n",
        "            nn.Linear(64, 1),\n",
        "            nn.Sigmoid(),\n",
        "        )\n",
        "\n",
        "    def forward(self, x):\n",
        "        output = self.model(x)\n",
        "        return output"
      ],
      "execution_count": 6,
      "outputs": []
    },
    {
      "cell_type": "code",
      "metadata": {
        "id": "zH9otYoP-8-9"
      },
      "source": [
        "class Generator(nn.Module):\n",
        "    def __init__(self):\n",
        "        super().__init__()\n",
        "        self.model = nn.Sequential(\n",
        "            nn.Linear(2, 16),\n",
        "            nn.ReLU(),\n",
        "            nn.Linear(16, 32),\n",
        "            nn.ReLU(),\n",
        "            nn.Linear(32, 2),\n",
        "        )\n",
        "\n",
        "    def forward(self, x):\n",
        "        output = self.model(x)\n",
        "        return output\n",
        "\n",
        "generator = Generator()"
      ],
      "execution_count": 7,
      "outputs": []
    },
    {
      "cell_type": "code",
      "metadata": {
        "id": "0C3ZEJ5__OUt"
      },
      "source": [
        "generator = Generator()\n",
        "discriminator = Discriminator()"
      ],
      "execution_count": 9,
      "outputs": []
    },
    {
      "cell_type": "code",
      "metadata": {
        "id": "8cLBvuzK_T9o"
      },
      "source": [
        "lr = 0.001\n",
        "num_epochs = 300\n",
        "loss_function = nn.BCELoss()"
      ],
      "execution_count": 10,
      "outputs": []
    },
    {
      "cell_type": "code",
      "metadata": {
        "id": "aXsW2_XJ_ZtM"
      },
      "source": [
        "optimizer_discriminator = torch.optim.Adam(discriminator.parameters(), lr=lr)\n",
        "optimizer_generator = torch.optim.Adam(generator.parameters(), lr=lr)"
      ],
      "execution_count": 11,
      "outputs": []
    },
    {
      "cell_type": "code",
      "metadata": {
        "colab": {
          "base_uri": "https://localhost:8080/"
        },
        "id": "NFv60i9d_dCd",
        "outputId": "a17364e7-592e-4e49-e99a-524b7b8b765d"
      },
      "source": [
        "for epoch in range(num_epochs):\n",
        "    for n, (real_samples, _) in enumerate(train_loader):\n",
        "        # Data for training the discriminator\n",
        "        real_samples_labels = torch.ones((batch_size, 1))\n",
        "        latent_space_samples = torch.randn((batch_size, 2))\n",
        "        generated_samples = generator(latent_space_samples)\n",
        "        generated_samples_labels = torch.zeros((batch_size, 1))\n",
        "        all_samples = torch.cat((real_samples, generated_samples))\n",
        "        all_samples_labels = torch.cat(\n",
        "            (real_samples_labels, generated_samples_labels)\n",
        "        )\n",
        "\n",
        "        # Training the discriminator\n",
        "        discriminator.zero_grad()\n",
        "        output_discriminator = discriminator(all_samples)\n",
        "        loss_discriminator = loss_function(\n",
        "            output_discriminator, all_samples_labels)\n",
        "        loss_discriminator.backward()\n",
        "        optimizer_discriminator.step()\n",
        "\n",
        "        # Data for training the generator\n",
        "        latent_space_samples = torch.randn((batch_size, 2))\n",
        "\n",
        "        # Training the generator\n",
        "        generator.zero_grad()\n",
        "        generated_samples = generator(latent_space_samples)\n",
        "        output_discriminator_generated = discriminator(generated_samples)\n",
        "        loss_generator = loss_function(\n",
        "            output_discriminator_generated, real_samples_labels\n",
        "        )\n",
        "        loss_generator.backward()\n",
        "        optimizer_generator.step()\n",
        "\n",
        "        # Show loss\n",
        "        if epoch % 10 == 0 and n == batch_size - 1:\n",
        "            print(f\"Epoch: {epoch} Loss D.: {loss_discriminator}\")\n",
        "            print(f\"Epoch: {epoch} Loss G.: {loss_generator}\")"
      ],
      "execution_count": 12,
      "outputs": [
        {
          "output_type": "stream",
          "text": [
            "Epoch: 0 Loss D.: 0.16632990539073944\n",
            "Epoch: 0 Loss G.: 1.7604256868362427\n",
            "Epoch: 10 Loss D.: 0.46041959524154663\n",
            "Epoch: 10 Loss G.: 0.9993348717689514\n",
            "Epoch: 20 Loss D.: 0.580115020275116\n",
            "Epoch: 20 Loss G.: 0.8995356559753418\n",
            "Epoch: 30 Loss D.: 0.6697861552238464\n",
            "Epoch: 30 Loss G.: 0.782668948173523\n",
            "Epoch: 40 Loss D.: 0.6808105111122131\n",
            "Epoch: 40 Loss G.: 0.6875308752059937\n",
            "Epoch: 50 Loss D.: 0.6795332431793213\n",
            "Epoch: 50 Loss G.: 0.6933406591415405\n",
            "Epoch: 60 Loss D.: 0.6786395311355591\n",
            "Epoch: 60 Loss G.: 0.8023473024368286\n",
            "Epoch: 70 Loss D.: 0.6584797501564026\n",
            "Epoch: 70 Loss G.: 0.8835779428482056\n",
            "Epoch: 80 Loss D.: 0.677915632724762\n",
            "Epoch: 80 Loss G.: 0.6985853910446167\n",
            "Epoch: 90 Loss D.: 0.6929159760475159\n",
            "Epoch: 90 Loss G.: 0.6542906761169434\n",
            "Epoch: 100 Loss D.: 0.7071402668952942\n",
            "Epoch: 100 Loss G.: 0.6991032958030701\n",
            "Epoch: 110 Loss D.: 0.6477779150009155\n",
            "Epoch: 110 Loss G.: 0.8978508710861206\n",
            "Epoch: 120 Loss D.: 0.6465482711791992\n",
            "Epoch: 120 Loss G.: 0.8092464804649353\n",
            "Epoch: 130 Loss D.: 0.6794930100440979\n",
            "Epoch: 130 Loss G.: 0.7241562604904175\n",
            "Epoch: 140 Loss D.: 0.7432511448860168\n",
            "Epoch: 140 Loss G.: 0.6687520146369934\n",
            "Epoch: 150 Loss D.: 0.7020126581192017\n",
            "Epoch: 150 Loss G.: 0.6725584268569946\n",
            "Epoch: 160 Loss D.: 0.6487377285957336\n",
            "Epoch: 160 Loss G.: 0.7340779900550842\n",
            "Epoch: 170 Loss D.: 0.6407110095024109\n",
            "Epoch: 170 Loss G.: 0.738182783126831\n",
            "Epoch: 180 Loss D.: 0.6842273473739624\n",
            "Epoch: 180 Loss G.: 0.694060206413269\n",
            "Epoch: 190 Loss D.: 0.6642083525657654\n",
            "Epoch: 190 Loss G.: 0.7103325724601746\n",
            "Epoch: 200 Loss D.: 0.7122575044631958\n",
            "Epoch: 200 Loss G.: 0.6882275938987732\n",
            "Epoch: 210 Loss D.: 0.6652678847312927\n",
            "Epoch: 210 Loss G.: 0.8078076839447021\n",
            "Epoch: 220 Loss D.: 0.6611624956130981\n",
            "Epoch: 220 Loss G.: 0.7582738995552063\n",
            "Epoch: 230 Loss D.: 0.6847346425056458\n",
            "Epoch: 230 Loss G.: 0.7228967547416687\n",
            "Epoch: 240 Loss D.: 0.6805056929588318\n",
            "Epoch: 240 Loss G.: 0.7052322030067444\n",
            "Epoch: 250 Loss D.: 0.7180716395378113\n",
            "Epoch: 250 Loss G.: 0.7437849044799805\n",
            "Epoch: 260 Loss D.: 0.6155766248703003\n",
            "Epoch: 260 Loss G.: 0.8321826457977295\n",
            "Epoch: 270 Loss D.: 0.7211161851882935\n",
            "Epoch: 270 Loss G.: 0.7392596006393433\n",
            "Epoch: 280 Loss D.: 0.8048579096794128\n",
            "Epoch: 280 Loss G.: 0.6117390990257263\n",
            "Epoch: 290 Loss D.: 0.6877673864364624\n",
            "Epoch: 290 Loss G.: 0.7262296676635742\n"
          ],
          "name": "stdout"
        }
      ]
    },
    {
      "cell_type": "code",
      "metadata": {
        "id": "vtqm-OX9AwCp"
      },
      "source": [
        "latent_space_samples = torch.randn(100, 2)\n",
        "generated_samples = generator(latent_space_samples)"
      ],
      "execution_count": 13,
      "outputs": []
    },
    {
      "cell_type": "code",
      "metadata": {
        "colab": {
          "base_uri": "https://localhost:8080/",
          "height": 282
        },
        "id": "TvVrje1sA3eR",
        "outputId": "dc2b9816-9619-43e2-b7f4-5c7f72fcf6b9"
      },
      "source": [
        "generated_samples = generated_samples.detach()\n",
        "plt.plot(generated_samples[:, 0], generated_samples[:, 1], \".\")"
      ],
      "execution_count": 14,
      "outputs": [
        {
          "output_type": "execute_result",
          "data": {
            "text/plain": [
              "[<matplotlib.lines.Line2D at 0x7ff6a6fa8610>]"
            ]
          },
          "metadata": {
            "tags": []
          },
          "execution_count": 14
        },
        {
          "output_type": "display_data",
          "data": {
            "image/png": "[encoded data removed]",
            "text/plain": [
              "<Figure size 432x288 with 1 Axes>"
            ]
          },
          "metadata": {
            "tags": [],
            "needs_background": "light"
          }
        }
      ]
    }
  ]
}